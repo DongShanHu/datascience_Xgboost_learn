{
 "cells": [
  {
   "cell_type": "code",
   "execution_count": 2,
   "metadata": {},
   "outputs": [],
   "source": [
    "# 基礎\n",
    "import pandas as pd\n",
    "import numpy as np\n",
    "import math\n",
    "import json\n",
    "import os\n",
    "import jieba  ## 斷字\n",
    "# jieba.set_dictionary('dict.txt')\n",
    "stopwords = [ line.rstrip() for line in open('stop_words.txt' , encoding='utf8') ] ## 這個中文停用字典可以自己找\n",
    "\n",
    "# 視覺化\n",
    "import matplotlib.pyplot as plt  ## python最常見的繪圖工具\n",
    "import matplotlib\n",
    "zhfont1 = matplotlib.font_manager.FontProperties(fname='simsun.ttf')  ## plt中文字\n",
    "from mpl_toolkits.mplot3d import Axes3D\n",
    "from sklearn.decomposition import PCA  ## 降維視覺化常用工具\n",
    "from pylab import rcParams  ## 調整畫布比例\n",
    "\n",
    "# 訓練模型\n",
    "from sklearn.model_selection import train_test_split  ## 切分鍊與測試資料集\n",
    "from sklearn.neighbors import KNeighborsClassifier  ## KNN\n",
    "from sklearn.svm import SVC  ## SVM\n",
    "from  xgboost import XGBClassifier  ## xgboost\n",
    "import xgboost\n",
    "\n",
    "# 從新竹社會局常見問答集爬取\n",
    "def getdata():\n",
    "    with open('RawData.json', 'r', encoding='utf8') as f:\n",
    "        data = json.load(f)\n",
    "    df = pd.DataFrame(data)\n",
    "    return df"
   ]
  },
  {
   "cell_type": "code",
   "execution_count": 3,
   "metadata": {},
   "outputs": [
    {
     "name": "stdout",
     "output_type": "stream",
     "text": [
      "Rows= 327\n"
     ]
    },
    {
     "data": {
      "text/html": [
       "<div>\n",
       "<style scoped>\n",
       "    .dataframe tbody tr th:only-of-type {\n",
       "        vertical-align: middle;\n",
       "    }\n",
       "\n",
       "    .dataframe tbody tr th {\n",
       "        vertical-align: top;\n",
       "    }\n",
       "\n",
       "    .dataframe thead th {\n",
       "        text-align: right;\n",
       "    }\n",
       "</style>\n",
       "<table border=\"1\" class=\"dataframe\">\n",
       "  <thead>\n",
       "    <tr style=\"text-align: right;\">\n",
       "      <th></th>\n",
       "      <th>ans</th>\n",
       "      <th>cat</th>\n",
       "      <th>id</th>\n",
       "      <th>question</th>\n",
       "    </tr>\n",
       "  </thead>\n",
       "  <tbody>\n",
       "    <tr>\n",
       "      <th>0</th>\n",
       "      <td>1.幼兒家長在戶政事務所完成新生兒出生登記後，即可向所轄區公所社政課提出育兒津貼申請。2.在...</td>\n",
       "      <td>幼兒福利及托育服務</td>\n",
       "      <td>189</td>\n",
       "      <td>小孩出生後應於何時申請育兒津貼?</td>\n",
       "    </tr>\n",
       "    <tr>\n",
       "      <th>1</th>\n",
       "      <td>隨時提出;津貼經審查通過後，追溯自受理申請之當月起發給。兒童出生後六十日內向戶政事務所完成出...</td>\n",
       "      <td>幼兒福利及托育服務</td>\n",
       "      <td>189</td>\n",
       "      <td>小孩出生後應於何時申請育兒津貼?</td>\n",
       "    </tr>\n",
       "    <tr>\n",
       "      <th>2</th>\n",
       "      <td>申請資料應備齊:(一)兒童之戶口名簿影本。(二)申請人之郵局存摺封面影本。(三)父母雙方身分...</td>\n",
       "      <td>幼兒福利及托育服務</td>\n",
       "      <td>189</td>\n",
       "      <td>育兒津貼申請應備文件為何?</td>\n",
       "    </tr>\n",
       "    <tr>\n",
       "      <th>3</th>\n",
       "      <td>一、育兒津貼補助對象：1.育有二足歲以下兒童。2.兒童之父母至少一方因育兒需要，致未能就業者...</td>\n",
       "      <td>幼兒福利及托育服務</td>\n",
       "      <td>189</td>\n",
       "      <td>若民眾夫妻雙方均失業，是否可申請家庭育兒津貼費用補助</td>\n",
       "    </tr>\n",
       "    <tr>\n",
       "      <th>4</th>\n",
       "      <td>育兒津貼補助對象，應符合下列規定：(一)育有二足歲以下兒童。(二)兒童之父母(或監護人)至少...</td>\n",
       "      <td>幼兒福利及托育服務</td>\n",
       "      <td>189</td>\n",
       "      <td>育兒津貼補助對象為何？</td>\n",
       "    </tr>\n",
       "  </tbody>\n",
       "</table>\n",
       "</div>"
      ],
      "text/plain": [
       "                                                 ans        cat   id  \\\n",
       "0  1.幼兒家長在戶政事務所完成新生兒出生登記後，即可向所轄區公所社政課提出育兒津貼申請。2.在...  幼兒福利及托育服務  189   \n",
       "1  隨時提出;津貼經審查通過後，追溯自受理申請之當月起發給。兒童出生後六十日內向戶政事務所完成出...  幼兒福利及托育服務  189   \n",
       "2  申請資料應備齊:(一)兒童之戶口名簿影本。(二)申請人之郵局存摺封面影本。(三)父母雙方身分...  幼兒福利及托育服務  189   \n",
       "3  一、育兒津貼補助對象：1.育有二足歲以下兒童。2.兒童之父母至少一方因育兒需要，致未能就業者...  幼兒福利及托育服務  189   \n",
       "4  育兒津貼補助對象，應符合下列規定：(一)育有二足歲以下兒童。(二)兒童之父母(或監護人)至少...  幼兒福利及托育服務  189   \n",
       "\n",
       "                     question  \n",
       "0            小孩出生後應於何時申請育兒津貼?  \n",
       "1            小孩出生後應於何時申請育兒津貼?  \n",
       "2               育兒津貼申請應備文件為何?  \n",
       "3  若民眾夫妻雙方均失業，是否可申請家庭育兒津貼費用補助  \n",
       "4                 育兒津貼補助對象為何？  "
      ]
     },
     "execution_count": 3,
     "metadata": {},
     "output_type": "execute_result"
    }
   ],
   "source": [
    "df_train = getdata()\n",
    "print(\"Rows=\",len(df_train))\n",
    "df_train.head()"
   ]
  },
  {
   "cell_type": "code",
   "execution_count": 4,
   "metadata": {},
   "outputs": [],
   "source": [
    "# 斷字\n",
    "# 這個地方斷字模式的選擇非常重要，因為中文斷字採用精準模式可以方便人們閱讀，\n",
    "# 但是如果要讓機器去認識相關性，最好可以讓句子當中所有可能的資訊都被包含進去，而採用全斷詞模式可以得到所有的斷字可能，如此一來，\n",
    "# 便能增加斷詞後句子的資訊含量。這部分之所以會檢查出來之後，\n",
    "# 下面的PCA圖(比較下面)也可以明顯看出，每個句字的資訊含量增多了之後，有平滑資料的功能"
   ]
  },
  {
   "cell_type": "code",
   "execution_count": 5,
   "metadata": {},
   "outputs": [
    {
     "name": "stderr",
     "output_type": "stream",
     "text": [
      "Building prefix dict from the default dictionary ...\n",
      "Loading model from cache C:\\Users\\User\\AppData\\Local\\Temp\\jieba.cache\n",
      "Loading model cost 0.842 seconds.\n",
      "Prefix dict has been built succesfully.\n"
     ]
    },
    {
     "data": {
      "text/html": [
       "<div>\n",
       "<style scoped>\n",
       "    .dataframe tbody tr th:only-of-type {\n",
       "        vertical-align: middle;\n",
       "    }\n",
       "\n",
       "    .dataframe tbody tr th {\n",
       "        vertical-align: top;\n",
       "    }\n",
       "\n",
       "    .dataframe thead th {\n",
       "        text-align: right;\n",
       "    }\n",
       "</style>\n",
       "<table border=\"1\" class=\"dataframe\">\n",
       "  <thead>\n",
       "    <tr style=\"text-align: right;\">\n",
       "      <th></th>\n",
       "      <th>ans</th>\n",
       "      <th>cat</th>\n",
       "      <th>id</th>\n",
       "      <th>question</th>\n",
       "      <th>words</th>\n",
       "    </tr>\n",
       "  </thead>\n",
       "  <tbody>\n",
       "    <tr>\n",
       "      <th>0</th>\n",
       "      <td>1.幼兒家長在戶政事務所完成新生兒出生登記後，即可向所轄區公所社政課提出育兒津貼申請。2.在...</td>\n",
       "      <td>幼兒福利及托育服務</td>\n",
       "      <td>189</td>\n",
       "      <td>小孩出生後應於何時申請育兒津貼?</td>\n",
       "      <td>[小孩, 出生, 後, 應, 於, 何, 時, 申, 請, 育, 兒, 津, 貼, , ]</td>\n",
       "    </tr>\n",
       "    <tr>\n",
       "      <th>1</th>\n",
       "      <td>隨時提出;津貼經審查通過後，追溯自受理申請之當月起發給。兒童出生後六十日內向戶政事務所完成出...</td>\n",
       "      <td>幼兒福利及托育服務</td>\n",
       "      <td>189</td>\n",
       "      <td>小孩出生後應於何時申請育兒津貼?</td>\n",
       "      <td>[小孩, 出生, 後, 應, 於, 何, 時, 申, 請, 育, 兒, 津, 貼, , ]</td>\n",
       "    </tr>\n",
       "    <tr>\n",
       "      <th>2</th>\n",
       "      <td>申請資料應備齊:(一)兒童之戶口名簿影本。(二)申請人之郵局存摺封面影本。(三)父母雙方身分...</td>\n",
       "      <td>幼兒福利及托育服務</td>\n",
       "      <td>189</td>\n",
       "      <td>育兒津貼申請應備文件為何?</td>\n",
       "      <td>[育, 兒, 津, 貼, 申, 請, 應, 備, 文件, 為, 何, , ]</td>\n",
       "    </tr>\n",
       "    <tr>\n",
       "      <th>3</th>\n",
       "      <td>一、育兒津貼補助對象：1.育有二足歲以下兒童。2.兒童之父母至少一方因育兒需要，致未能就業者...</td>\n",
       "      <td>幼兒福利及托育服務</td>\n",
       "      <td>189</td>\n",
       "      <td>若民眾夫妻雙方均失業，是否可申請家庭育兒津貼費用補助</td>\n",
       "      <td>[若, 民, 眾, 夫妻, 雙, 方, 均, 失, 業, , , 是否, 可, 申, 請, ...</td>\n",
       "    </tr>\n",
       "    <tr>\n",
       "      <th>4</th>\n",
       "      <td>育兒津貼補助對象，應符合下列規定：(一)育有二足歲以下兒童。(二)兒童之父母(或監護人)至少...</td>\n",
       "      <td>幼兒福利及托育服務</td>\n",
       "      <td>189</td>\n",
       "      <td>育兒津貼補助對象為何？</td>\n",
       "      <td>[育, 兒, 津, 貼, 補, 助, 對, 象, 為, 何, , ]</td>\n",
       "    </tr>\n",
       "  </tbody>\n",
       "</table>\n",
       "</div>"
      ],
      "text/plain": [
       "                                                 ans        cat   id  \\\n",
       "0  1.幼兒家長在戶政事務所完成新生兒出生登記後，即可向所轄區公所社政課提出育兒津貼申請。2.在...  幼兒福利及托育服務  189   \n",
       "1  隨時提出;津貼經審查通過後，追溯自受理申請之當月起發給。兒童出生後六十日內向戶政事務所完成出...  幼兒福利及托育服務  189   \n",
       "2  申請資料應備齊:(一)兒童之戶口名簿影本。(二)申請人之郵局存摺封面影本。(三)父母雙方身分...  幼兒福利及托育服務  189   \n",
       "3  一、育兒津貼補助對象：1.育有二足歲以下兒童。2.兒童之父母至少一方因育兒需要，致未能就業者...  幼兒福利及托育服務  189   \n",
       "4  育兒津貼補助對象，應符合下列規定：(一)育有二足歲以下兒童。(二)兒童之父母(或監護人)至少...  幼兒福利及托育服務  189   \n",
       "\n",
       "                     question  \\\n",
       "0            小孩出生後應於何時申請育兒津貼?   \n",
       "1            小孩出生後應於何時申請育兒津貼?   \n",
       "2               育兒津貼申請應備文件為何?   \n",
       "3  若民眾夫妻雙方均失業，是否可申請家庭育兒津貼費用補助   \n",
       "4                 育兒津貼補助對象為何？   \n",
       "\n",
       "                                               words  \n",
       "0      [小孩, 出生, 後, 應, 於, 何, 時, 申, 請, 育, 兒, 津, 貼, , ]  \n",
       "1      [小孩, 出生, 後, 應, 於, 何, 時, 申, 請, 育, 兒, 津, 貼, , ]  \n",
       "2             [育, 兒, 津, 貼, 申, 請, 應, 備, 文件, 為, 何, , ]  \n",
       "3  [若, 民, 眾, 夫妻, 雙, 方, 均, 失, 業, , , 是否, 可, 申, 請, ...  \n",
       "4                 [育, 兒, 津, 貼, 補, 助, 對, 象, 為, 何, , ]  "
      ]
     },
     "execution_count": 5,
     "metadata": {},
     "output_type": "execute_result"
    }
   ],
   "source": [
    "def preprocess(question):\n",
    "#     words = list(jieba.cut(question)) ## 精準模式\n",
    "    words = list(jieba.cut(question, cut_all=True)) ## 全斷詞模式\n",
    "    return words\n",
    "# 將處理玩資料放入df_train['words'] apply()=>call() 呼叫方法的應用\n",
    "df_train['words'] = df_train['question'].apply(preprocess)\n",
    "df_train.head()"
   ]
  },
  {
   "cell_type": "code",
   "execution_count": 6,
   "metadata": {},
   "outputs": [
    {
     "name": "stdout",
     "output_type": "stream",
     "text": [
      "{'家庭暴力及性侵害防治服務': 0, '志願服務': 1, '社區發展服務': 2, '社工專業服務': 3, '婦女福利': 4, '身心障礙者福利': 5, '人民團體及合作社場服務': 6, '國民年金': 7, '社會救助': 8, '幼兒福利及托育服務': 9, '兒童少年及家庭福利': 10, '老人福利': 11}\n",
      "{0: '家庭暴力及性侵害防治服務', 1: '志願服務', 2: '社區發展服務', 3: '社工專業服務', 4: '婦女福利', 5: '身心障礙者福利', 6: '人民團體及合作社場服務', 7: '國民年金', 8: '社會救助', 9: '幼兒福利及托育服務', 10: '兒童少年及家庭福利', 11: '老人福利'}\n"
     ]
    }
   ],
   "source": [
    "# 準備把文字類別轉換成數字類別\n",
    "# 為了訓練需要，將類別轉化為數字類別(1~11類)\n",
    "cat_mapping = {}\n",
    "for num, cat in enumerate(list(set(df_train['cat']))):\n",
    "    cat_mapping[cat] = num\n",
    "    \n",
    "# 預測時，要將預測出的結果翻譯為原先的類別所使用\n",
    "inversed_cat_mapping = {}\n",
    "for cat, idx in cat_mapping.items():\n",
    "    inversed_cat_mapping[idx] = cat\n",
    "\n",
    "print(cat_mapping)\n",
    "print(inversed_cat_mapping)\n",
    "\n",
    "# {'國民年金': 1, '社區發展服務': 2, '社工專業服務': 11, '兒童少年及家庭福利': 3, '身心障礙者福利': 4, '家庭暴力及性侵害防治服務': 8, '婦女福利': 6, '幼兒福利及托育服務': 7, '人民團體及合作社場服務': 9, '社會救助': 5, '老人福利': 10, '志願服務': 0}\n",
    "# {0: '志願服務', 1: '國民年金', 2: '社區發展服務', 3: '兒童少年及家庭福利', 4: '身心障礙者福利', 5: '社會救助', 6: '婦女福利', 7: '幼兒福利及托育服務', 8: '家庭暴力及性侵害防治服務', 9: '人民團體及合作社場服務', 10: '老人福利', 11: '社工專業服務'}"
   ]
  },
  {
   "cell_type": "code",
   "execution_count": 7,
   "metadata": {},
   "outputs": [
    {
     "name": "stdout",
     "output_type": "stream",
     "text": [
      "Preprocess Length =  327\n",
      "Processed Length =  339\n"
     ]
    },
    {
     "name": "stderr",
     "output_type": "stream",
     "text": [
      "D:\\Anacond\\lib\\site-packages\\ipykernel_launcher.py:18: FutureWarning: Sorting because non-concatenation axis is not aligned. A future version\n",
      "of pandas will change to not sort by default.\n",
      "\n",
      "To accept the future behavior, pass 'sort=True'.\n",
      "\n",
      "To retain the current behavior and silence the warning, pass sort=False\n",
      "\n"
     ]
    }
   ],
   "source": [
    "print('Preprocess Length = ', len(df_train))\n",
    "\n",
    "addedrow = []\n",
    "for key, value in cat_mapping.items():\n",
    "    row = {}\n",
    "    words = list(jieba.cut(key, cut_all=False))\n",
    "    row['words'] = words\n",
    "    \n",
    "    row = {'ans': None,\n",
    "            'cat': key,\n",
    "            'cat_num': value,\n",
    "            'id': None,\n",
    "            'question': key,\n",
    "            'words':words\n",
    "          }\n",
    "    addedrow.append(row)\n",
    "addeddf = pd.DataFrame(addedrow)\n",
    "df_train = pd.concat([df_train, addeddf])\n",
    "print('Processed Length = ', len(df_train))"
   ]
  },
  {
   "cell_type": "code",
   "execution_count": 8,
   "metadata": {},
   "outputs": [
    {
     "data": {
      "image/png": "[encoded data removed]",
      "text/plain": [
       "<Figure size 432x288 with 1 Axes>"
      ]
     },
     "metadata": {},
     "output_type": "display_data"
    },
    {
     "name": "stdout",
     "output_type": "stream",
     "text": [
      "A 人民團體及合作社場服務 11\n",
      "B 兒童少年及家庭福利 30\n",
      "C 國民年金 9\n",
      "D 婦女福利 29\n",
      "E 家庭暴力及性侵害防治服務 36\n",
      "F 幼兒福利及托育服務 34\n",
      "G 志願服務 4\n",
      "H 社區發展服務 17\n",
      "I 社工專業服務 11\n",
      "J 社會救助 41\n",
      "K 老人福利 26\n",
      "L 身心障礙者福利 79\n"
     ]
    }
   ],
   "source": [
    "# 訓練出來的類別分配比例，與訓練資料集內部的類別分配比例會相同，\n",
    "# 因此如果未來使用者詢問的問題的比例與這個比例不同，將很有可能導致預測的失準，\n",
    "# 因此這部分要特別注意。如果知道真實的使用者詢問比例\n",
    "\n",
    "main_series = df_train.groupby('cat').count()['ans']\n",
    "main_series.plot(kind='bar', use_index=False)\n",
    "# 存起來的modules壞了\n",
    "# plt.savefig(os.path.join('pic', 'nums_of_queries_each_cat'))\n",
    "plt.show()\n",
    "\n",
    "for i in range(len(list(main_series.index))):\n",
    "    label = 'ABCDEFGHIJKLMNOPQRSTU'\n",
    "    print(label[i], main_series.index[i], list(main_series)[i])"
   ]
  },
  {
   "cell_type": "code",
   "execution_count": 9,
   "metadata": {},
   "outputs": [
    {
     "data": {
      "image/png": "[encoded data removed]",
      "text/plain": [
       "<Figure size 432x288 with 1 Axes>"
      ]
     },
     "metadata": {},
     "output_type": "display_data"
    }
   ],
   "source": [
    "df_train['question'].apply(len).plot(kind='hist', bins=30)\n",
    "plt.show()"
   ]
  },
  {
   "cell_type": "code",
   "execution_count": 10,
   "metadata": {},
   "outputs": [
    {
     "name": "stdout",
     "output_type": "stream",
     "text": [
      "家庭暴力及性侵害防治服務\n"
     ]
    },
    {
     "ename": "NameError",
     "evalue": "name 'wordcloud' is not defined",
     "output_type": "error",
     "traceback": [
      "\u001b[1;31m---------------------------------------------------------------------------\u001b[0m",
      "\u001b[1;31mNameError\u001b[0m                                 Traceback (most recent call last)",
      "\u001b[1;32m<ipython-input-10-31ccac2aee0b>\u001b[0m in \u001b[0;36m<module>\u001b[1;34m()\u001b[0m\n\u001b[0;32m     12\u001b[0m     \u001b[0mprint\u001b[0m\u001b[1;33m(\u001b[0m\u001b[0mcat\u001b[0m\u001b[1;33m)\u001b[0m\u001b[1;33m\u001b[0m\u001b[0m\n\u001b[0;32m     13\u001b[0m \u001b[1;31m#     wordcloud = WordCloud(font_path=\"simsun.ttf\")\u001b[0m\u001b[1;33m\u001b[0m\u001b[1;33m\u001b[0m\u001b[0m\n\u001b[1;32m---> 14\u001b[1;33m     \u001b[0mwordcloud\u001b[0m\u001b[1;33m.\u001b[0m\u001b[0mgenerate_from_frequencies\u001b[0m\u001b[1;33m(\u001b[0m\u001b[0mfrequencies\u001b[0m\u001b[1;33m=\u001b[0m\u001b[0mfreq\u001b[0m\u001b[1;33m)\u001b[0m\u001b[1;33m\u001b[0m\u001b[0m\n\u001b[0m\u001b[0;32m     15\u001b[0m     \u001b[0mplt\u001b[0m\u001b[1;33m.\u001b[0m\u001b[0mfigure\u001b[0m\u001b[1;33m(\u001b[0m\u001b[1;33m)\u001b[0m\u001b[1;33m\u001b[0m\u001b[0m\n\u001b[0;32m     16\u001b[0m     \u001b[0mplt\u001b[0m\u001b[1;33m.\u001b[0m\u001b[0mimshow\u001b[0m\u001b[1;33m(\u001b[0m\u001b[0mwordcloud\u001b[0m\u001b[1;33m,\u001b[0m \u001b[0minterpolation\u001b[0m\u001b[1;33m=\u001b[0m\u001b[1;34m\"bilinear\"\u001b[0m\u001b[1;33m)\u001b[0m\u001b[1;33m\u001b[0m\u001b[0m\n",
      "\u001b[1;31mNameError\u001b[0m: name 'wordcloud' is not defined"
     ]
    }
   ],
   "source": [
    "# 每個類別常出現的字\n",
    "from wordcloud import WordCloud\n",
    "from collections import Counter\n",
    "\n",
    "freqs = []\n",
    "for cat in list(set(df_train['cat'])):\n",
    "    words_Li = list(df_train[df_train['cat'] == cat]['words'])\n",
    "    total_words_in_cat = []\n",
    "    for words in words_Li:\n",
    "        total_words_in_cat.extend(words)\n",
    "    freq = Counter(total_words_in_cat)\n",
    "    print(cat)\n",
    "#     wordcloud = WordCloud(font_path=\"simsun.ttf\")\n",
    "    wordcloud.generate_from_frequencies(frequencies=freq)\n",
    "    plt.figure()\n",
    "    plt.imshow(wordcloud, interpolation=\"bilinear\")\n",
    "    plt.axis(\"off\")\n",
    "    plt.title(cat, fontproperties=zhfont1)\n",
    "    plt.show()"
   ]
  },
  {
   "cell_type": "code",
   "execution_count": null,
   "metadata": {},
   "outputs": [],
   "source": [
    "# 準備排序的文字list(keywordindex)\n",
    "total_li = []\n",
    "for li in list(df_train['words']):\n",
    "    total_li += li\n",
    "vectorterms = list(set(total_li))\n",
    "\n",
    "## 轉化每個問題變成向量\n",
    "def vectorize(words):\n",
    "    self_main_list = [0] * len(vectorterms)\n",
    "    for term in words:\n",
    "        if term in vectorterms:  ## 測試資料集當中的字不一訂有出現在訓練資料集中\n",
    "            idx = vectorterms.index(term)\n",
    "            self_main_list[idx] += 1\n",
    "    return np.array(self_main_list)\n",
    "\n",
    "X = np.concatenate(df_train['words'].apply(vectorize).values).reshape(-1, len(vectorterms))\n",
    "Y = df_train['cat'].apply(cat_mapping.get)\n",
    "print(X.shape)\n",
    "print(Y.shape)"
   ]
  },
  {
   "cell_type": "code",
   "execution_count": null,
   "metadata": {},
   "outputs": [],
   "source": [
    "# 查看訓練資料的資料分布\n",
    "fig = plt.figure(1, figsize=(8, 6))\n",
    "ax = Axes3D(fig, elev=-150, azim=110)\n",
    "\n",
    "X_reduced = PCA(n_components=3).fit_transform(X)\n",
    "ax.scatter(X_reduced[:, 0], X_reduced[:, 1], X_reduced[:, 2], c=Y,\n",
    "           cmap=plt.cm.Set1, edgecolor='k', s=40)\n",
    "ax.set_title(\"PCA_\")\n",
    "ax.set_xlabel(\"1st \")\n",
    "ax.w_xaxis.set_ticklabels([])\n",
    "ax.set_ylabel(\"2nd \")\n",
    "ax.w_yaxis.set_ticklabels([])\n",
    "ax.set_zlabel(\"3rd \")\n",
    "ax.w_zaxis.set_ticklabels([])\n",
    "# 存起來的modules壞掉了\n",
    "# plt.savefig(os.path.join('pic', 'PCA_cutall'))\n",
    "plt.show()"
   ]
  },
  {
   "cell_type": "code",
   "execution_count": null,
   "metadata": {},
   "outputs": [],
   "source": [
    "# Finally, we split some of the data off for validation\n",
    "X_train, X_valid, Y_train, Y_valid = train_test_split(X, Y, test_size=0.2, random_state=123)\n",
    "\n",
    "print(X_train.shape)\n",
    "print(X_valid.shape)\n",
    "print(Y_train.shape)\n",
    "print(Y_valid.shape)"
   ]
  },
  {
   "cell_type": "code",
   "execution_count": null,
   "metadata": {},
   "outputs": [],
   "source": [
    "# 定義函式，輸入分類器，輸出準確率\n",
    "def get_accuracy(clf, *args):\n",
    "    if args:\n",
    "        clf = clf(kernel=args[0])  ## SVM在這邊用Llinear比較準\n",
    "    else:\n",
    "        clf = clf()\n",
    "    clf = clf.fit(X_train, Y_train)\n",
    "    y_pred = clf.predict(X_valid)\n",
    "    return (str(sum(Y_valid == y_pred)/Y_valid.shape[0]))\n",
    "\n",
    "print('KNN: ', get_accuracy(KNeighborsClassifier))\n",
    "print('SVM_rbf: ', get_accuracy(SVC))\n",
    "print('SVM_linear: ', get_accuracy(SVC, 'linear'))\n",
    "print('XGB: ', get_accuracy(XGBClassifier))"
   ]
  },
  {
   "cell_type": "code",
   "execution_count": null,
   "metadata": {},
   "outputs": [],
   "source": [
    "params = {}\n",
    "params['objective'] = 'multi:softmax'  ## 因為是多個類別，這邊跟前面兩個類別的使用不太一樣\n",
    "params['eta'] = 0.1\n",
    "params['max_depth'] = 3\n",
    "params['silent'] = 1\n",
    "params['nthread'] = 4\n",
    "params['num_class'] = len(set(Y))  ## 多個類別，記得要告訴她有幾個類別\n",
    "\n",
    "d_train = xgboost.DMatrix(X_train, label=Y_train)\n",
    "d_valid = xgboost.DMatrix(X_valid, label=Y_valid)\n",
    "watchlist = [(d_train, 'train'), (d_valid, 'valid')]\n",
    "\n",
    "bst = xgboost.train(params, d_train, 1000, watchlist, early_stopping_rounds=100, verbose_eval=10)"
   ]
  },
  {
   "cell_type": "code",
   "execution_count": null,
   "metadata": {},
   "outputs": [],
   "source": [
    "y_pred = bst.predict(xgboost.DMatrix(X_valid))\n",
    "print(\"Accuracy_valid: \", str(sum(Y_valid == y_pred)/Y_valid.shape[0]))\n",
    "y_pred = bst.predict(xgboost.DMatrix(X))\n",
    "print(\"Accuracy_all: \", str(sum(Y == y_pred)/Y.shape[0]))\n",
    "# 準確度高達86%"
   ]
  },
  {
   "cell_type": "code",
   "execution_count": null,
   "metadata": {},
   "outputs": [],
   "source": [
    "# This is crawled from 台北社會局常見問答集\n",
    "# with open('Taipei_Society_Affiar_QA', 'r', encoding='utf8') as f:\n",
    "#     testing_questions = eval(f.read())\n",
    "#     testing_questions = np.random.choice(testing_questions, size=len(testing_questions))\n",
    "df_test=pd.read_excel('my data path')\n",
    "# df_test = pd.DataFrame(testing_questions, columns=['question'])\n",
    "# df_test.head()"
   ]
  },
  {
   "cell_type": "code",
   "execution_count": null,
   "metadata": {},
   "outputs": [],
   "source": [
    "def predict(question):  ## 定義預測函數\n",
    "    words = preprocess(question)\n",
    "    vector = vectorize(words)\n",
    "    cat_num = bst.predict(xgboost.DMatrix(vector.reshape(1, -1)))\n",
    "    return inversed_cat_mapping.get(cat_num[0])\n",
    "df_test['cat_pred'] = df_test['Submit'].apply(predict)\n",
    "df_test[['Submit', 'cat_pred']]"
   ]
  },
  {
   "cell_type": "code",
   "execution_count": null,
   "metadata": {},
   "outputs": [],
   "source": [
    "# 檢視錯誤預測\n",
    "df_train_error = df_train[['question', 'cat']]\n",
    "df_train_error['cat_pred'] = df_train_error['question'].apply(predict)\n",
    "df_train_error.loc[df_train_error['cat'] != df_train_error['cat_pred'], ['question', 'cat', 'cat_pred']]"
   ]
  },
  {
   "cell_type": "code",
   "execution_count": 46,
   "metadata": {},
   "outputs": [
    {
     "name": "stdout",
     "output_type": "stream",
     "text": [
      "請輸入你的問題?\n",
      "中華民國台灣\n"
     ]
    },
    {
     "data": {
      "text/plain": [
       "'社工專業服務'"
      ]
     },
     "execution_count": 46,
     "metadata": {},
     "output_type": "execute_result"
    }
   ],
   "source": [
    "query = input(\"請輸入你的問題?\\n\")\n",
    "predict(query)"
   ]
  },
  {
   "cell_type": "code",
   "execution_count": null,
   "metadata": {},
   "outputs": [],
   "source": []
  },
  {
   "cell_type": "code",
   "execution_count": null,
   "metadata": {},
   "outputs": [],
   "source": []
  }
 ],
 "metadata": {
  "kernelspec": {
   "display_name": "Python 3",
   "language": "python",
   "name": "python3"
  },
  "language_info": {
   "codemirror_mode": {
    "name": "ipython",
    "version": 3
   },
   "file_extension": ".py",
   "mimetype": "text/x-python",
   "name": "python",
   "nbconvert_exporter": "python",
   "pygments_lexer": "ipython3",
   "version": "3.6.5"
  }
 },
 "nbformat": 4,
 "nbformat_minor": 2
}
